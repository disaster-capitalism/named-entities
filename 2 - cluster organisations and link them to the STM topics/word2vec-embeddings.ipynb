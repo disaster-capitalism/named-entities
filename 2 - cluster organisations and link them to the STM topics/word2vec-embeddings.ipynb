{
 "cells": [
  {
   "cell_type": "markdown",
   "id": "ac965704-7ccc-46cf-9683-99b113a8e9ae",
   "metadata": {},
   "source": [
    "## Word2Vec embeddings\n",
    "\n",
    "This notebook calculates Word2Vec embeddings for each token or phrase in the OECD corpus. We try a variety of models with different vector sizes and context sizes for words.\n",
    "\n"
   ]
  },
  {
   "cell_type": "markdown",
   "id": "9693a57c-6adb-494d-b425-792cf41b9d8a",
   "metadata": {},
   "source": [
    "### 1. Replace curated ngrams with single tokens in docs\n",
    "\n",
    "There is a curated list of phrases spanning more than one word which represent terms that need a single vector associated with them. This list is given in `ngram_replacements.json`. We replace these with single tokens in this step."
   ]
  },
  {
   "cell_type": "code",
   "execution_count": 1,
   "id": "d0765bc1-6af8-46c9-8c1d-3ecbc153d667",
   "metadata": {},
   "outputs": [
    {
     "name": "stderr",
     "output_type": "stream",
     "text": [
      "[nltk_data] Downloading package omw-1.4 to\n",
      "[nltk_data]     /Users/kodymoodley/nltk_data...\n",
      "[nltk_data]   Package omw-1.4 is already up-to-date!\n"
     ]
    }
   ],
   "source": [
    "from pathlib import Path\n",
    "import os\n",
    "\n",
    "path = Path(os.getcwd())\n",
    "models_dir = os.path.join(path.parents[0], \"models\")\n",
    "\n",
    "from preprocessing import replace_ngrams_with_unigrams_curated_phrases, preprocess_word2vec\n",
    "\n",
    "# replace ngrams with single tokens\n",
    "corpus = replace_ngrams_with_unigrams_curated_phrases()"
   ]
  },
  {
   "cell_type": "markdown",
   "id": "a3975bb6-8033-4f1a-885b-e17fa14db8de",
   "metadata": {},
   "source": [
    "### 2. Preprocess text for word2vec algorithm\n",
    "\n",
    "Prepare the text for training the embeddings. This performs further preprocessing such as removing stopwords, punctuation and performing lemmatization."
   ]
  },
  {
   "cell_type": "code",
   "execution_count": 2,
   "id": "453d7281-b7ef-4844-9b28-f39db079b789",
   "metadata": {},
   "outputs": [],
   "source": [
    "# combine all docs into one string\n",
    "corpus_as_str = ''\n",
    "for key in corpus:\n",
    "    corpus_as_str += corpus[key] + '. '\n",
    "    \n",
    "# preprocess for word2vec\n",
    "processed_corpus = preprocess_word2vec(corpus_as_str, custom_stopwords=None)"
   ]
  },
  {
   "cell_type": "markdown",
   "id": "f5995876-bcbc-4fbc-8669-18144d0c0e68",
   "metadata": {},
   "source": [
    "### 3. Train the embedding models\n",
    "\n",
    "Try different parameters for vector and window sizes."
   ]
  },
  {
   "cell_type": "code",
   "execution_count": 3,
   "id": "ac9fe021-6321-4b4a-94c3-4119bec50386",
   "metadata": {},
   "outputs": [],
   "source": [
    "import gensim.models\n",
    "model_200_10 = gensim.models.Word2Vec(sentences=processed_corpus, sg=1, vector_size=200, window=10, workers=4, min_count=2, epochs=25)"
   ]
  },
  {
   "cell_type": "code",
   "execution_count": 4,
   "id": "eb87f21e-1156-44a1-b781-e3686f47d4bf",
   "metadata": {},
   "outputs": [],
   "source": [
    "model_200_20 = gensim.models.Word2Vec(sentences=processed_corpus, sg=1, vector_size=200, window=20, workers=4, min_count=2, epochs=25)"
   ]
  },
  {
   "cell_type": "code",
   "execution_count": 5,
   "id": "cb910b08-f67e-4e97-9247-00d6e6d279a9",
   "metadata": {},
   "outputs": [],
   "source": [
    "model_200_30 = gensim.models.Word2Vec(sentences=processed_corpus, sg=1, vector_size=200, window=30, workers=4, min_count=2, epochs=25)"
   ]
  },
  {
   "cell_type": "code",
   "execution_count": 6,
   "id": "8f8bf6fb-9274-424b-b639-9b6de6fa3732",
   "metadata": {},
   "outputs": [],
   "source": [
    "model_100_10 = gensim.models.Word2Vec(sentences=processed_corpus, sg=1, vector_size=100, window=10, workers=4, min_count=2, epochs=25)"
   ]
  },
  {
   "cell_type": "code",
   "execution_count": 7,
   "id": "ad2577a9-9fea-4e98-8e49-5b5422528335",
   "metadata": {},
   "outputs": [],
   "source": [
    "model_100_20 = gensim.models.Word2Vec(sentences=processed_corpus, sg=1, vector_size=100, window=20, workers=4, min_count=2, epochs=25)"
   ]
  },
  {
   "cell_type": "code",
   "execution_count": 8,
   "id": "0514e1b9-576d-4103-8f94-c7607881ca35",
   "metadata": {},
   "outputs": [],
   "source": [
    "model_200_40_30 = gensim.models.Word2Vec(sentences=processed_corpus, sg=1, vector_size=200, window=40, workers=4, min_count=2, epochs=30)"
   ]
  },
  {
   "cell_type": "code",
   "execution_count": 9,
   "id": "097f2a7c-7b34-4b82-94fb-0747eebec8e5",
   "metadata": {},
   "outputs": [],
   "source": [
    "model_100_30 = gensim.models.Word2Vec(sentences=processed_corpus, sg=1, vector_size=100, window=30, workers=4, min_count=2, epochs=25)"
   ]
  },
  {
   "cell_type": "code",
   "execution_count": 10,
   "id": "18ce429d-e35d-404d-8ad2-5be7b5d2f1f7",
   "metadata": {},
   "outputs": [],
   "source": [
    "model_100_40_30 = gensim.models.Word2Vec(sentences=processed_corpus, sg=1, vector_size=100, window=40, workers=4, min_count=2, epochs=30)"
   ]
  },
  {
   "cell_type": "markdown",
   "id": "e4894aef-c8fc-462c-bd1f-04f2b5110586",
   "metadata": {},
   "source": [
    "### 4. Save the embedding models\n",
    "\n",
    "Save the models to file"
   ]
  },
  {
   "cell_type": "code",
   "execution_count": 12,
   "id": "2d030692-1dba-4346-b3b6-fad26db09818",
   "metadata": {},
   "outputs": [],
   "source": [
    "import tempfile\n",
    "\n",
    "with tempfile.NamedTemporaryFile(delete=False) as tmp:\n",
    "    filepath_200_10 = os.path.join(models_dir, 'gensim-oecd-word2vec-200-10.model')\n",
    "    filepath_200_20 = os.path.join(models_dir, 'gensim-oecd-word2vec-200-20.model')\n",
    "    filepath_200_30 = os.path.join(models_dir, 'gensim-oecd-word2vec-200-30.model')\n",
    "    filepath_100_10 = os.path.join(models_dir, 'gensim-oecd-word2vec-100-10.model')\n",
    "    filepath_100_20 = os.path.join(models_dir, 'gensim-oecd-word2vec-100-20.model')\n",
    "    filepath_100_30 = os.path.join(models_dir, 'gensim-oecd-word2vec-100-30.model')\n",
    "    filepath_200_40_30 = os.path.join(models_dir, 'gensim-oecd-word2vec-200-40-30.model')\n",
    "    filepath_100_40_30 = os.path.join(models_dir, 'gensim-oecd-word2vec-100-40-30.model')\n",
    "    model_200_10.save(filepath_200_10)\n",
    "    model_200_20.save(filepath_200_20)\n",
    "    model_200_30.save(filepath_200_30)\n",
    "    model_100_10.save(filepath_100_10)\n",
    "    model_100_20.save(filepath_100_20)\n",
    "    model_100_30.save(filepath_100_30)\n",
    "    model_200_40_30.save(filepath_200_40_30)\n",
    "    model_100_40_30.save(filepath_100_40_30)"
   ]
  },
  {
   "cell_type": "markdown",
   "id": "898e31a4-fc53-4b14-b6cb-3327c6b7f6e6",
   "metadata": {},
   "source": [
    "### 5. Test the models\n",
    "\n",
    "Explore the quality of the embeddings"
   ]
  },
  {
   "cell_type": "code",
   "execution_count": 13,
   "id": "1cd950d5-3496-41a3-9ba3-6e2468f96002",
   "metadata": {},
   "outputs": [],
   "source": [
    "# vec_water = model.wv['water']"
   ]
  },
  {
   "cell_type": "code",
   "execution_count": 14,
   "id": "6bcc8d2e-6ef1-40d9-90c3-6916ebb02617",
   "metadata": {},
   "outputs": [],
   "source": [
    "# print(vec_water)"
   ]
  },
  {
   "cell_type": "code",
   "execution_count": 15,
   "id": "0662a040-3580-468d-bc32-39e7056cb2f8",
   "metadata": {},
   "outputs": [],
   "source": [
    "# model.wv.most_similar(positive=['adaptation'], topn=10)"
   ]
  },
  {
   "cell_type": "code",
   "execution_count": 16,
   "id": "86c1e68e-c1ee-4015-9e90-100b001ff77a",
   "metadata": {},
   "outputs": [],
   "source": [
    "# for index, word in enumerate(model.wv.index_to_key):\n",
    "#     if index == 10:\n",
    "#         break\n",
    "#     print(f\"word #{index}/{len(model.wv.index_to_key)} is {word}\")"
   ]
  },
  {
   "cell_type": "code",
   "execution_count": 17,
   "id": "bba06676-73b2-495f-b21c-b48c263cba1b",
   "metadata": {},
   "outputs": [],
   "source": [
    "a_testmodel = gensim.models.Word2Vec.load(filepath_100_10)\n",
    "b_testmodel = gensim.models.Word2Vec.load(filepath_200_10)"
   ]
  },
  {
   "cell_type": "code",
   "execution_count": 18,
   "id": "dac947e3-96fb-4284-900b-0231097565f3",
   "metadata": {},
   "outputs": [
    {
     "data": {
      "text/plain": [
       "[('financing', 0.7322310209274292),\n",
       " ('leverage', 0.7108215093612671),\n",
       " ('non-concessional', 0.7107137441635132),\n",
       " ('mezzanine', 0.6873796582221985),\n",
       " ('blended', 0.6777296662330627),\n",
       " ('repayable_finance', 0.6750354170799255),\n",
       " ('crowd-in', 0.6733455061912537),\n",
       " ('infrastruc-ture', 0.6724364161491394),\n",
       " ('concessional', 0.6682285666465759),\n",
       " ('concessionary', 0.6642774343490601),\n",
       " ('commercial', 0.6617627143859863),\n",
       " ('repayable', 0.6491576433181763),\n",
       " ('private_infrastructure_development_group', 0.646681010723114),\n",
       " ('investment', 0.6420419812202454),\n",
       " ('mobilising', 0.6417251229286194),\n",
       " ('repay-ment', 0.6297632455825806),\n",
       " ('risk-management', 0.625847339630127),\n",
       " ('risk-mitigation', 0.6249263286590576),\n",
       " ('delmon', 0.6246047616004944),\n",
       " ('sswsp', 0.6230606436729431)]"
      ]
     },
     "execution_count": 18,
     "metadata": {},
     "output_type": "execute_result"
    }
   ],
   "source": [
    "a_testmodel.wv.most_similar(positive=['finance'], topn=20)"
   ]
  },
  {
   "cell_type": "code",
   "execution_count": 19,
   "id": "915924eb-cdf9-49bf-afc9-94e0b9898e1f",
   "metadata": {},
   "outputs": [
    {
     "data": {
      "text/plain": [
       "[('financing', 0.652104377746582),\n",
       " ('non-concessional', 0.5843335390090942),\n",
       " ('mezzanine', 0.5741749405860901),\n",
       " ('blend', 0.5659187436103821),\n",
       " ('blended', 0.5621514916419983),\n",
       " ('leverage', 0.561673104763031),\n",
       " ('crowd-in', 0.5472071170806885),\n",
       " ('repayable', 0.5443536639213562),\n",
       " ('investment', 0.5376092195510864),\n",
       " ('mobilize', 0.5322173833847046),\n",
       " ('repay-ment', 0.5277232527732849),\n",
       " ('organi-sations', 0.5272273421287537),\n",
       " ('repaid', 0.5250483155250549),\n",
       " ('de-risk', 0.5231276750564575),\n",
       " ('sswsp', 0.5227317214012146),\n",
       " ('non-earmarked', 0.5218403339385986),\n",
       " ('infrastruc-ture', 0.5181378722190857),\n",
       " ('concessionary', 0.5178442597389221),\n",
       " ('commercial', 0.5167564749717712),\n",
       " ('delmon', 0.5132759809494019)]"
      ]
     },
     "execution_count": 19,
     "metadata": {},
     "output_type": "execute_result"
    }
   ],
   "source": [
    "b_testmodel.wv.most_similar(positive=['finance'], topn=20)"
   ]
  },
  {
   "cell_type": "code",
   "execution_count": 20,
   "id": "8dc30485-49b0-4d5d-9b3c-b980ea1832f0",
   "metadata": {},
   "outputs": [],
   "source": [
    "c_testmodel = gensim.models.Word2Vec.load(filepath_100_20)\n",
    "d_testmodel = gensim.models.Word2Vec.load(filepath_200_20)"
   ]
  },
  {
   "cell_type": "code",
   "execution_count": 21,
   "id": "3692fc78-1a00-4bbc-8cea-639c3db13b36",
   "metadata": {},
   "outputs": [
    {
     "data": {
      "text/plain": [
       "[('financing', 0.7665867209434509),\n",
       " ('commercial', 0.7176423668861389),\n",
       " ('mezzanine', 0.7036367654800415),\n",
       " ('blended', 0.6958461999893188),\n",
       " ('investment', 0.6906468272209167),\n",
       " ('non-concessional', 0.6781517267227173),\n",
       " ('blend', 0.6725146174430847),\n",
       " ('concessional', 0.6671544313430786),\n",
       " ('repayable', 0.6667763590812683),\n",
       " ('attract', 0.665846586227417),\n",
       " ('leverage', 0.6639302372932434),\n",
       " ('organi-sations', 0.6467216610908508),\n",
       " ('debt', 0.6463366150856018),\n",
       " ('mobilising', 0.6432472467422485),\n",
       " ('vipa', 0.6408852338790894),\n",
       " ('concessionary', 0.6321372985839844),\n",
       " ('risk-management', 0.6316962242126465),\n",
       " ('repay-ment', 0.6298185586929321),\n",
       " ('loan', 0.6263399720191956),\n",
       " ('repayable_finance', 0.6248188614845276)]"
      ]
     },
     "execution_count": 21,
     "metadata": {},
     "output_type": "execute_result"
    }
   ],
   "source": [
    "c_testmodel.wv.most_similar(positive=['finance'], topn=20)"
   ]
  },
  {
   "cell_type": "code",
   "execution_count": 22,
   "id": "3076f2b5-b6de-434f-9573-271f0eb760f3",
   "metadata": {},
   "outputs": [
    {
     "data": {
      "text/plain": [
       "[('financing', 0.6960784196853638),\n",
       " ('investment', 0.6266279816627502),\n",
       " ('commercial', 0.6079007387161255),\n",
       " ('mezzanine', 0.5823829770088196),\n",
       " ('blend', 0.58002769947052),\n",
       " ('blended', 0.5657579302787781),\n",
       " ('leverage', 0.5431210398674011),\n",
       " ('tri', 0.5420008897781372),\n",
       " ('repayable', 0.5408057570457458),\n",
       " ('non-concessional', 0.5402007102966309),\n",
       " ('concessional', 0.5383909344673157),\n",
       " ('concessionary', 0.5347957611083984),\n",
       " ('karana', 0.5289083123207092),\n",
       " ('repayable_finance', 0.5284245610237122),\n",
       " ('hita', 0.5270977020263672),\n",
       " ('investor', 0.5215573906898499),\n",
       " ('mobilise', 0.5163821578025818),\n",
       " ('risk-mitigation', 0.5159808397293091),\n",
       " ('de-risk', 0.5150316953659058),\n",
       " ('development_bank_of_the_philippines', 0.5147721767425537)]"
      ]
     },
     "execution_count": 22,
     "metadata": {},
     "output_type": "execute_result"
    }
   ],
   "source": [
    "d_testmodel.wv.most_similar(positive=['finance'], topn=20)"
   ]
  },
  {
   "cell_type": "code",
   "execution_count": 23,
   "id": "04991334-6e99-4898-a176-d07ede459263",
   "metadata": {},
   "outputs": [],
   "source": [
    "e_testmodel = gensim.models.Word2Vec.load(filepath_100_30)\n",
    "f_testmodel = gensim.models.Word2Vec.load(filepath_200_30)"
   ]
  },
  {
   "cell_type": "code",
   "execution_count": 25,
   "id": "4a2f021f-0aea-4330-a82f-35d9d6d06e2e",
   "metadata": {},
   "outputs": [
    {
     "data": {
      "text/plain": [
       "[('foundation/arup', 0.7402074337005615),\n",
       " ('centennial', 0.6189465522766113),\n",
       " ('kassel', 0.587670087814331),\n",
       " ('foundation_for_applied_water_research', 0.5441530346870422),\n",
       " ('gauvin', 0.5439850687980652),\n",
       " ('kase', 0.5407016277313232),\n",
       " ('grantham', 0.5347704291343689),\n",
       " ('mode-of-action-based', 0.5277999043464661),\n",
       " ('climate-resilient', 0.527142345905304),\n",
       " ('janssenal', 0.5230787396430969),\n",
       " ('the_smart_water_grid', 0.5219584703445435),\n",
       " ('craft', 0.5201272964477539),\n",
       " ('district_of_colombia', 0.518730878829956),\n",
       " ('simoni', 0.5153480172157288),\n",
       " ('oost', 0.5131468176841736),\n",
       " ('battery', 0.5124571323394775),\n",
       " ('letzel', 0.5098364353179932),\n",
       " ('surrogate', 0.5080912709236145),\n",
       " ('macroeconomic_growth', 0.5072043538093567),\n",
       " ('hilary_delage', 0.5061073899269104)]"
      ]
     },
     "execution_count": 25,
     "metadata": {},
     "output_type": "execute_result"
    }
   ],
   "source": [
    "e_testmodel.wv.most_similar(positive=['rockefeller'], topn=20)"
   ]
  },
  {
   "cell_type": "code",
   "execution_count": 27,
   "id": "198369f4-a908-442a-addb-e38da3345053",
   "metadata": {},
   "outputs": [
    {
     "data": {
      "text/plain": [
       "[('foundation/arup', 0.6886305809020996),\n",
       " ('centennial', 0.6167237162590027),\n",
       " ('meeting/workshop', 0.46759840846061707),\n",
       " ('cri', 0.4624117314815521),\n",
       " ('circle_of_blue', 0.454412579536438),\n",
       " ('westhoek', 0.45238032937049866),\n",
       " ('kassel', 0.4514877498149872),\n",
       " ('iiasa', 0.45003455877304077),\n",
       " ('duhon', 0.44657039642333984),\n",
       " ('intergovernmental_panel_on', 0.4455540180206299),\n",
       " ('chartered', 0.44546106457710266),\n",
       " ('hargrove', 0.44524097442626953),\n",
       " ('macroeconomic_growth', 0.44167494773864746),\n",
       " ('kase', 0.4379238486289978),\n",
       " ('roy', 0.43525102734565735),\n",
       " ('srex', 0.4349420666694641),\n",
       " ('deltares_science_institute', 0.4344605803489685),\n",
       " ('siegel', 0.4343560039997101),\n",
       " ('non-targeted', 0.43401914834976196),\n",
       " ('foundation', 0.4324767589569092)]"
      ]
     },
     "execution_count": 27,
     "metadata": {},
     "output_type": "execute_result"
    }
   ],
   "source": [
    "f_testmodel.wv.most_similar(positive=['rockefeller'], topn=20)"
   ]
  },
  {
   "cell_type": "code",
   "execution_count": 28,
   "id": "3f719748-0b68-4f96-9440-e96d39b37b31",
   "metadata": {},
   "outputs": [],
   "source": [
    "g_testmodel = gensim.models.Word2Vec.load(filepath_200_40_30)\n",
    "h_testmodel = gensim.models.Word2Vec.load(filepath_100_40_30)"
   ]
  },
  {
   "cell_type": "code",
   "execution_count": null,
   "id": "a343e974-13d2-4ea1-b979-d99499ba140c",
   "metadata": {},
   "outputs": [],
   "source": [
    "g_testmodel.wv.most_similar(positive=['rockefeller'], topn=20)"
   ]
  },
  {
   "cell_type": "code",
   "execution_count": null,
   "id": "bedd9952-7dbb-4ca4-92e6-11d284ffdb2f",
   "metadata": {},
   "outputs": [],
   "source": [
    "h_testmodel.wv.most_similar(positive=['inei'], topn=20)"
   ]
  }
 ],
 "metadata": {
  "kernelspec": {
   "display_name": "Python 3 (ipykernel)",
   "language": "python",
   "name": "python3"
  },
  "language_info": {
   "codemirror_mode": {
    "name": "ipython",
    "version": 3
   },
   "file_extension": ".py",
   "mimetype": "text/x-python",
   "name": "python",
   "nbconvert_exporter": "python",
   "pygments_lexer": "ipython3",
   "version": "3.8.3"
  }
 },
 "nbformat": 4,
 "nbformat_minor": 5
}
